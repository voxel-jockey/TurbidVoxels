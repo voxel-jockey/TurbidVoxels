{
 "cells": [
  {
   "cell_type": "code",
   "execution_count": 43,
   "metadata": {},
   "outputs": [],
   "source": [
    "#=\n",
    "\n",
    "Turbid Voxels\n",
    "\n",
    "Voxel Jockey December 2020\n",
    "\n",
    "=#"
   ]
  },
  {
   "cell_type": "code",
   "execution_count": 44,
   "metadata": {},
   "outputs": [],
   "source": [
    "# s.0 packages\n",
    "\n",
    "using Test"
   ]
  },
  {
   "cell_type": "code",
   "execution_count": 45,
   "metadata": {},
   "outputs": [],
   "source": [
    "# s.1 getters\n",
    "\n",
    "function get_m()\n",
    "    m::Int64 = 2\n",
    "    return m \n",
    "end\n",
    "\n",
    "function get_k()\n",
    "    m::Int64    = get_m()\n",
    "    k::Int64    = 2^m-1\n",
    "    return k\n",
    "end;"
   ]
  },
  {
   "cell_type": "code",
   "execution_count": 46,
   "metadata": {},
   "outputs": [],
   "source": [
    "# s.2 modelling turbidity\n",
    "\n",
    "function initialise_big_cube()\n",
    "    # needs a struct called a voxel that has cartesian place, trigonometric, optical properties and adjacency with other voxels\n",
    "    k::Int64                    = get_k()\n",
    "    big_cube::Array{Float64,3}  = zeros(k,k,k)\n",
    "    return big_cube\n",
    "end;"
   ]
  },
  {
   "cell_type": "code",
   "execution_count": 47,
   "metadata": {},
   "outputs": [],
   "source": [
    "# s.3 not used yet"
   ]
  },
  {
   "cell_type": "code",
   "execution_count": 48,
   "metadata": {},
   "outputs": [],
   "source": [
    "# s.4 main\n",
    "\n",
    "function main()\n",
    "    big_cube = intialise_big_cube()\n",
    "end;"
   ]
  },
  {
   "cell_type": "code",
   "execution_count": 49,
   "metadata": {},
   "outputs": [],
   "source": [
    "# s.5 tests\n",
    "\n",
    "function test_create_big_cube()\n",
    "    big_cube = initialise_big_cube()\n",
    "    @test typeof(big_cube) == Array{Float64, 3}\n",
    "end\n",
    "test_create_big_cube();"
   ]
  },
  {
   "cell_type": "code",
   "execution_count": 50,
   "metadata": {},
   "outputs": [
    {
     "name": "stdout",
     "output_type": "stream",
     "text": [
      "  0.000010 seconds (1 allocation: 304 bytes)\n"
     ]
    }
   ],
   "source": [
    "# s.6 times\n",
    "\n",
    "function time_initialise_big_cube()\n",
    "    @time initialise_big_cube()\n",
    "end\n",
    "\n",
    "time_initialise_big_cube();"
   ]
  },
  {
   "cell_type": "code",
   "execution_count": null,
   "metadata": {},
   "outputs": [],
   "source": []
  }
 ],
 "metadata": {
  "kernelspec": {
   "display_name": "Julia 1.4.2",
   "language": "julia",
   "name": "julia-1.4"
  },
  "language_info": {
   "file_extension": ".jl",
   "mimetype": "application/julia",
   "name": "julia",
   "version": "1.4.2"
  }
 },
 "nbformat": 4,
 "nbformat_minor": 4
}
